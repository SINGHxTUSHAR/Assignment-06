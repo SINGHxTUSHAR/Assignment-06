{
 "cells": [
  {
   "cell_type": "markdown",
   "id": "3ae926c7",
   "metadata": {},
   "source": [
    "Q1. Explain Class and Object with respect to Object-Oriented Programming. Give a suitable example."
   ]
  },
  {
   "cell_type": "markdown",
   "id": "85123f41",
   "metadata": {},
   "source": [
    "An object is simply a collection of data memebers (variables) and methods (functions). Similarly, a class is a blueprint for that object."
   ]
  },
  {
   "cell_type": "code",
   "execution_count": 1,
   "id": "5698c164",
   "metadata": {},
   "outputs": [],
   "source": [
    "class test:\n",
    "    def __init__(self,name):\n",
    "        self.name = name"
   ]
  },
  {
   "cell_type": "code",
   "execution_count": 2,
   "id": "052710c8",
   "metadata": {},
   "outputs": [],
   "source": [
    "class_obj = test(\"tushar\")"
   ]
  },
  {
   "cell_type": "code",
   "execution_count": 3,
   "id": "284a3358",
   "metadata": {},
   "outputs": [
    {
     "data": {
      "text/plain": [
       "'tushar'"
      ]
     },
     "execution_count": 3,
     "metadata": {},
     "output_type": "execute_result"
    }
   ],
   "source": [
    "class_obj.name"
   ]
  },
  {
   "cell_type": "code",
   "execution_count": null,
   "id": "88a006bc",
   "metadata": {},
   "outputs": [],
   "source": []
  },
  {
   "cell_type": "markdown",
   "id": "b37db7df",
   "metadata": {},
   "source": [
    "Q2. Name the four pillars of OOPs."
   ]
  },
  {
   "cell_type": "markdown",
   "id": "a25630e4",
   "metadata": {},
   "source": [
    "four pillars or oops are encapsulation, abstraction, polmorphism, inheritance"
   ]
  },
  {
   "cell_type": "code",
   "execution_count": null,
   "id": "a1d15df1",
   "metadata": {},
   "outputs": [],
   "source": []
  },
  {
   "cell_type": "markdown",
   "id": "ed4004ac",
   "metadata": {},
   "source": [
    "Q3. Explain why the __init__() function is used. Give a suitable example."
   ]
  },
  {
   "cell_type": "markdown",
   "id": "86327cef",
   "metadata": {},
   "source": [
    "__init__() is used to assign the values to the data member. __init__ function is a dunder function and act as a constructor for a class"
   ]
  },
  {
   "cell_type": "code",
   "execution_count": 5,
   "id": "31deb7d7",
   "metadata": {},
   "outputs": [],
   "source": [
    "class check:\n",
    "    def __init__(self,name,email_id,roll_no):\n",
    "        self.name = name\n",
    "        self.email_id = email_id\n",
    "        self.roll_no = roll_no"
   ]
  },
  {
   "cell_type": "code",
   "execution_count": 8,
   "id": "bfbff03f",
   "metadata": {},
   "outputs": [],
   "source": [
    "class_test_obj = check(\"himanshu\",\"tushar@gmail.com\",21)"
   ]
  },
  {
   "cell_type": "code",
   "execution_count": 9,
   "id": "bbeef115",
   "metadata": {},
   "outputs": [
    {
     "data": {
      "text/plain": [
       "'himanshu'"
      ]
     },
     "execution_count": 9,
     "metadata": {},
     "output_type": "execute_result"
    }
   ],
   "source": [
    "class_test_obj.name"
   ]
  },
  {
   "cell_type": "code",
   "execution_count": null,
   "id": "8beea54a",
   "metadata": {},
   "outputs": [],
   "source": []
  },
  {
   "cell_type": "markdown",
   "id": "722114e6",
   "metadata": {},
   "source": [
    "Q4. Why self is used in OOPs?"
   ]
  },
  {
   "cell_type": "markdown",
   "id": "bdd28339",
   "metadata": {},
   "source": [
    "self is used to bind the function or the data member to the class so that they can be used by calling the object of the class"
   ]
  },
  {
   "cell_type": "code",
   "execution_count": null,
   "id": "f5868796",
   "metadata": {},
   "outputs": [],
   "source": []
  },
  {
   "cell_type": "markdown",
   "id": "f446ee10",
   "metadata": {},
   "source": [
    "Q5. What is inheritance? Give an example for each type of inheritance."
   ]
  },
  {
   "cell_type": "markdown",
   "id": "d83ac31d",
   "metadata": {},
   "source": [
    "Inheritance means inherting the property of one class to another class, which means accessing the data memeber and their methods and properties "
   ]
  },
  {
   "cell_type": "code",
   "execution_count": 12,
   "id": "b96ad075",
   "metadata": {},
   "outputs": [],
   "source": [
    "# nmulti level inheritance\n",
    "class class1:\n",
    "    def class1_fun(self):\n",
    "        return \"this is the class1 method\""
   ]
  },
  {
   "cell_type": "code",
   "execution_count": 13,
   "id": "20d1852f",
   "metadata": {},
   "outputs": [],
   "source": [
    "class class2(class1):\n",
    "    def class2_fun(self):\n",
    "        return \"this is the class2 method\""
   ]
  },
  {
   "cell_type": "code",
   "execution_count": 14,
   "id": "9a313858",
   "metadata": {},
   "outputs": [],
   "source": [
    "class class3(class2):\n",
    "    def class3_fun(self):\n",
    "        return \"this is the class3 method\""
   ]
  },
  {
   "cell_type": "code",
   "execution_count": 15,
   "id": "6d791050",
   "metadata": {},
   "outputs": [],
   "source": [
    "class_obj = class3()"
   ]
  },
  {
   "cell_type": "code",
   "execution_count": 16,
   "id": "ceeede5f",
   "metadata": {},
   "outputs": [
    {
     "data": {
      "text/plain": [
       "'this is the class1 method'"
      ]
     },
     "execution_count": 16,
     "metadata": {},
     "output_type": "execute_result"
    }
   ],
   "source": [
    "class_obj.class1_fun()"
   ]
  },
  {
   "cell_type": "code",
   "execution_count": 17,
   "id": "c45015cc",
   "metadata": {},
   "outputs": [
    {
     "data": {
      "text/plain": [
       "'this is the class2 method'"
      ]
     },
     "execution_count": 17,
     "metadata": {},
     "output_type": "execute_result"
    }
   ],
   "source": [
    "class_obj.class2_fun()"
   ]
  },
  {
   "cell_type": "code",
   "execution_count": null,
   "id": "0b9a6e82",
   "metadata": {},
   "outputs": [],
   "source": []
  },
  {
   "cell_type": "code",
   "execution_count": 18,
   "id": "ac449965",
   "metadata": {},
   "outputs": [],
   "source": [
    "# multiple inheritance\n",
    "\n",
    "class father:\n",
    "    def check_father(self):\n",
    "        return \"i am a her father and she is my daughter\""
   ]
  },
  {
   "cell_type": "code",
   "execution_count": 19,
   "id": "781a2563",
   "metadata": {},
   "outputs": [],
   "source": [
    "class mother:\n",
    "    def check_mother(self):\n",
    "        return \"she is my daughter and i am her mother\""
   ]
  },
  {
   "cell_type": "code",
   "execution_count": 20,
   "id": "dc3ceff4",
   "metadata": {},
   "outputs": [],
   "source": [
    "class daughter(father,mother):    # multiple inheritance , daughter class is inherting the father and mother class\n",
    "    def check_daughter(self):\n",
    "        return \"hello guys i am girl\""
   ]
  },
  {
   "cell_type": "code",
   "execution_count": 21,
   "id": "7c6c89ab",
   "metadata": {},
   "outputs": [],
   "source": [
    "class_obj = daughter()"
   ]
  },
  {
   "cell_type": "code",
   "execution_count": 22,
   "id": "e71cdf06",
   "metadata": {},
   "outputs": [
    {
     "data": {
      "text/plain": [
       "'i am a her father and she is my daughter'"
      ]
     },
     "execution_count": 22,
     "metadata": {},
     "output_type": "execute_result"
    }
   ],
   "source": [
    "class_obj.check_father()"
   ]
  },
  {
   "cell_type": "code",
   "execution_count": 23,
   "id": "6c18566d",
   "metadata": {},
   "outputs": [
    {
     "data": {
      "text/plain": [
       "'she is my daughter and i am her mother'"
      ]
     },
     "execution_count": 23,
     "metadata": {},
     "output_type": "execute_result"
    }
   ],
   "source": [
    "class_obj.check_mother()"
   ]
  },
  {
   "cell_type": "code",
   "execution_count": null,
   "id": "21b0c833",
   "metadata": {},
   "outputs": [],
   "source": []
  },
  {
   "cell_type": "code",
   "execution_count": 24,
   "id": "d67f19a7",
   "metadata": {},
   "outputs": [],
   "source": [
    "# single inheritance\n",
    "\n",
    "class Parent:\n",
    "    def func1(self):\n",
    "        print(\"This function is in parent class.\")"
   ]
  },
  {
   "cell_type": "code",
   "execution_count": 25,
   "id": "6ff507f8",
   "metadata": {},
   "outputs": [],
   "source": [
    "class Child(Parent):\n",
    "    def func2(self):\n",
    "        print(\"This function is in child class.\")"
   ]
  },
  {
   "cell_type": "code",
   "execution_count": 26,
   "id": "b6a5f630",
   "metadata": {},
   "outputs": [
    {
     "name": "stdout",
     "output_type": "stream",
     "text": [
      "This function is in parent class.\n",
      "This function is in child class.\n"
     ]
    }
   ],
   "source": [
    "object = Child()\n",
    "object.func1()\n",
    "object.func2()"
   ]
  },
  {
   "cell_type": "code",
   "execution_count": null,
   "id": "bfc93d9f",
   "metadata": {},
   "outputs": [],
   "source": []
  },
  {
   "cell_type": "code",
   "execution_count": 27,
   "id": "10d372f7",
   "metadata": {},
   "outputs": [],
   "source": [
    "# Hierarchical Inheritance\n",
    "\n",
    "class Parent:\n",
    "    def func1(self):\n",
    "        print(\"This function is in parent class.\")"
   ]
  },
  {
   "cell_type": "code",
   "execution_count": 28,
   "id": "7500fcfb",
   "metadata": {},
   "outputs": [],
   "source": [
    "class Child1(Parent):\n",
    "    def func2(self):\n",
    "        print(\"This function is in child 1.\")"
   ]
  },
  {
   "cell_type": "code",
   "execution_count": 29,
   "id": "b925b404",
   "metadata": {},
   "outputs": [],
   "source": [
    "class Child2(Parent):\n",
    "    def func3(self):\n",
    "        print(\"This function is in child 2.\")"
   ]
  },
  {
   "cell_type": "code",
   "execution_count": 30,
   "id": "5b6d6ed3",
   "metadata": {},
   "outputs": [
    {
     "name": "stdout",
     "output_type": "stream",
     "text": [
      "This function is in parent class.\n",
      "This function is in child 1.\n",
      "This function is in parent class.\n",
      "This function is in child 2.\n"
     ]
    }
   ],
   "source": [
    "object1 = Child1()\n",
    "object2 = Child2()\n",
    "object1.func1()\n",
    "object1.func2()\n",
    "object2.func1()\n",
    "object2.func3()"
   ]
  },
  {
   "cell_type": "code",
   "execution_count": null,
   "id": "06c41195",
   "metadata": {},
   "outputs": [],
   "source": []
  },
  {
   "cell_type": "code",
   "execution_count": null,
   "id": "f2bac582",
   "metadata": {},
   "outputs": [],
   "source": []
  }
 ],
 "metadata": {
  "kernelspec": {
   "display_name": "Python 3 (ipykernel)",
   "language": "python",
   "name": "python3"
  },
  "language_info": {
   "codemirror_mode": {
    "name": "ipython",
    "version": 3
   },
   "file_extension": ".py",
   "mimetype": "text/x-python",
   "name": "python",
   "nbconvert_exporter": "python",
   "pygments_lexer": "ipython3",
   "version": "3.9.12"
  }
 },
 "nbformat": 4,
 "nbformat_minor": 5
}
